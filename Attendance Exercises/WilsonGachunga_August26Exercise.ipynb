{
 "cells": [
  {
   "cell_type": "markdown",
   "id": "2fc90733-1902-42aa-9c19-981ffb66807c",
   "metadata": {},
   "source": [
    "## Wilson Gachunga\n",
    "### August 26th Attendance"
   ]
  },
  {
   "cell_type": "markdown",
   "id": "e1a0ac8e-029a-438c-baaa-7976ba8f5f3e",
   "metadata": {},
   "source": [
    "Calculating Factorials"
   ]
  },
  {
   "cell_type": "code",
   "execution_count": 3,
   "id": "23c20ad0-12d4-4224-9293-2770bdd9792c",
   "metadata": {},
   "outputs": [],
   "source": [
    "def factorial(n):\n",
    "    if n == 0:\n",
    "        return 1\n",
    "    else:\n",
    "        return n * factorial(n-1)"
   ]
  },
  {
   "cell_type": "markdown",
   "id": "9e7bd8f1-7d0c-491e-a86e-b0fc953b0ebd",
   "metadata": {},
   "source": [
    "The factorial of an integer is the product of itself, and each integer lesser than itself. This function uses recursion to calculate the factorial of an integer, with a base case of 1.\n",
    "\n",
    "When the single parameter \"m\" of the function is passed it, the return value is set to be itself multiplied with the factorial of the number one lesser.\n",
    "\n",
    "This works, albeit slowly, by calculating n factorials, from n to 1 in that order."
   ]
  },
  {
   "cell_type": "code",
   "execution_count": 10,
   "id": "e04987e0-f25a-48da-82cb-0b05531f559d",
   "metadata": {},
   "outputs": [
    {
     "name": "stdout",
     "output_type": "stream",
     "text": [
      "Test value =  17\n",
      "Result =  355687428096000\n"
     ]
    }
   ],
   "source": [
    "x = 17\n",
    "print(\"Test value = \", x)\n",
    "print(\"Result = \",factorial(x))"
   ]
  }
 ],
 "metadata": {
  "kernelspec": {
   "display_name": "Python [conda env:base] *",
   "language": "python",
   "name": "conda-base-py"
  },
  "language_info": {
   "codemirror_mode": {
    "name": "ipython",
    "version": 3
   },
   "file_extension": ".py",
   "mimetype": "text/x-python",
   "name": "python",
   "nbconvert_exporter": "python",
   "pygments_lexer": "ipython3",
   "version": "3.13.5"
  }
 },
 "nbformat": 4,
 "nbformat_minor": 5
}
