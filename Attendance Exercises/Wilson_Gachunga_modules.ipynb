{
 "cells": [
  {
   "cell_type": "code",
   "execution_count": 11,
   "id": "d7055e8a-d5e3-4e3e-b920-a7f753ce4b8c",
   "metadata": {},
   "outputs": [
    {
     "name": "stdout",
     "output_type": "stream",
     "text": [
      "fluffers is a cat. fluffers is 4 years old.\n"
     ]
    }
   ],
   "source": [
    "import pets\n",
    "import importlib\n",
    "importlib.reload(pets)\n",
    "\n",
    "fluffy = Pet(\"fluffers\", \"cat\", 4)\n",
    "fluffy.display()"
   ]
  },
  {
   "cell_type": "code",
   "execution_count": 15,
   "id": "e96ed53c-ba08-4e0e-9db2-060e686e869f",
   "metadata": {},
   "outputs": [
    {
     "name": "stdout",
     "output_type": "stream",
     "text": [
      "meowster is a cat. meowster is 2 years old.\n"
     ]
    }
   ],
   "source": [
    "meowster = Pet(\"meowster\", \"cat\", 2)\n",
    "meowster.display()"
   ]
  }
 ],
 "metadata": {
  "kernelspec": {
   "display_name": "Python [conda env:base] *",
   "language": "python",
   "name": "conda-base-py"
  },
  "language_info": {
   "codemirror_mode": {
    "name": "ipython",
    "version": 3
   },
   "file_extension": ".py",
   "mimetype": "text/x-python",
   "name": "python",
   "nbconvert_exporter": "python",
   "pygments_lexer": "ipython3",
   "version": "3.13.5"
  }
 },
 "nbformat": 4,
 "nbformat_minor": 5
}
